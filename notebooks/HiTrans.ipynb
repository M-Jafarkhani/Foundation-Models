{
  "nbformat": 4,
  "nbformat_minor": 0,
  "metadata": {
    "colab": {
      "provenance": [],
      "gpuType": "T4"
    },
    "kernelspec": {
      "name": "python3",
      "display_name": "Python 3"
    },
    "language_info": {
      "name": "python"
    },
    "accelerator": "GPU"
  },
  "cells": [
    {
      "cell_type": "code",
      "source": [
        "!git clone https://github.com/M-Jafarkhani/HiTrans.git"
      ],
      "metadata": {
        "colab": {
          "base_uri": "https://localhost:8080/"
        },
        "id": "guJpEUTZ47e3",
        "outputId": "7da162d3-e7ae-4224-bab3-37530e8d6353"
      },
      "execution_count": 1,
      "outputs": [
        {
          "output_type": "stream",
          "name": "stdout",
          "text": [
            "Cloning into 'HiTrans'...\n",
            "remote: Enumerating objects: 57, done.\u001b[K\n",
            "remote: Counting objects: 100% (57/57), done.\u001b[K\n",
            "remote: Compressing objects: 100% (39/39), done.\u001b[K\n",
            "remote: Total 57 (delta 19), reused 45 (delta 13), pack-reused 0 (from 0)\u001b[K\n",
            "Receiving objects: 100% (57/57), 523.96 KiB | 11.15 MiB/s, done.\n",
            "Resolving deltas: 100% (19/19), done.\n"
          ]
        }
      ]
    },
    {
      "cell_type": "code",
      "source": [
        "!python /content/HiTrans/main.py"
      ],
      "metadata": {
        "colab": {
          "base_uri": "https://localhost:8080/"
        },
        "id": "_rKnGh8usO-q",
        "outputId": "94ad6295-1dcc-4469-b005-4d24877d0fc5"
      },
      "execution_count": 2,
      "outputs": [
        {
          "output_type": "stream",
          "name": "stdout",
          "text": [
            "2024-11-24 14:17:47.934461: E external/local_xla/xla/stream_executor/cuda/cuda_fft.cc:485] Unable to register cuFFT factory: Attempting to register factory for plugin cuFFT when one has already been registered\n",
            "2024-11-24 14:17:47.955759: E external/local_xla/xla/stream_executor/cuda/cuda_dnn.cc:8454] Unable to register cuDNN factory: Attempting to register factory for plugin cuDNN when one has already been registered\n",
            "2024-11-24 14:17:47.962765: E external/local_xla/xla/stream_executor/cuda/cuda_blas.cc:1452] Unable to register cuBLAS factory: Attempting to register factory for plugin cuBLAS when one has already been registered\n",
            "2024-11-24 14:17:47.979436: I tensorflow/core/platform/cpu_feature_guard.cc:210] This TensorFlow binary is optimized to use available CPU instructions in performance-critical operations.\n",
            "To enable the following instructions: AVX2 FMA, in other operations, rebuild TensorFlow with the appropriate compiler flags.\n",
            "2024-11-24 14:17:49.227185: W tensorflow/compiler/tf2tensorrt/utils/py_utils.cc:38] TF-TRT Warning: Could not find TensorRT\n",
            "2024-11-24 14:17:52 - [line:164] - INFO: Namespace(d_model=768, d_ff=768, heads=6, layers=1, input_max_length=512, hidden_dim=768, dropout=0.5, lr=5e-05, bert_lr=1e-05, weight_decay=1e-05, max_grad_norm=1.0, epochs=5, batch_size=8, alpha=0.95, seed=123, device=0, evaluate=False)\n",
            "2024-11-24 14:17:52 - [line:174] - INFO: Loading data...\n",
            "2024-11-24 14:17:52 - [line:1051] - DEBUG: Starting new HTTPS connection (1): huggingface.co:443\n",
            "2024-11-24 14:17:52 - [line:546] - DEBUG: https://huggingface.co:443 \"HEAD /bert-base-uncased/resolve/main/tokenizer_config.json HTTP/11\" 200 0\n",
            "2024-11-24 14:17:52 - [line:331] - DEBUG: Attempting to acquire lock 136605046432208 on /root/.cache/huggingface/hub/.locks/models--bert-base-uncased/e5c73d8a50df1f56fb5b0b8002d7cf4010afdccb.lock\n",
            "2024-11-24 14:17:52 - [line:334] - DEBUG: Lock 136605046432208 acquired on /root/.cache/huggingface/hub/.locks/models--bert-base-uncased/e5c73d8a50df1f56fb5b0b8002d7cf4010afdccb.lock\n",
            "2024-11-24 14:17:52 - [line:546] - DEBUG: https://huggingface.co:443 \"GET /bert-base-uncased/resolve/main/tokenizer_config.json HTTP/11\" 200 48\n",
            "tokenizer_config.json: 100% 48.0/48.0 [00:00<00:00, 343kB/s]\n",
            "2024-11-24 14:17:52 - [line:364] - DEBUG: Attempting to release lock 136605046432208 on /root/.cache/huggingface/hub/.locks/models--bert-base-uncased/e5c73d8a50df1f56fb5b0b8002d7cf4010afdccb.lock\n",
            "2024-11-24 14:17:52 - [line:367] - DEBUG: Lock 136605046432208 released on /root/.cache/huggingface/hub/.locks/models--bert-base-uncased/e5c73d8a50df1f56fb5b0b8002d7cf4010afdccb.lock\n",
            "2024-11-24 14:17:52 - [line:546] - DEBUG: https://huggingface.co:443 \"HEAD /bert-base-uncased/resolve/main/vocab.txt HTTP/11\" 200 0\n",
            "2024-11-24 14:17:52 - [line:331] - DEBUG: Attempting to acquire lock 136605046435424 on /root/.cache/huggingface/hub/.locks/models--bert-base-uncased/fb140275c155a9c7c5a3b3e0e77a9e839594a938.lock\n",
            "2024-11-24 14:17:52 - [line:334] - DEBUG: Lock 136605046435424 acquired on /root/.cache/huggingface/hub/.locks/models--bert-base-uncased/fb140275c155a9c7c5a3b3e0e77a9e839594a938.lock\n",
            "2024-11-24 14:17:53 - [line:546] - DEBUG: https://huggingface.co:443 \"GET /bert-base-uncased/resolve/main/vocab.txt HTTP/11\" 200 231508\n",
            "vocab.txt: 100% 232k/232k [00:00<00:00, 559kB/s]\n",
            "2024-11-24 14:17:53 - [line:364] - DEBUG: Attempting to release lock 136605046435424 on /root/.cache/huggingface/hub/.locks/models--bert-base-uncased/fb140275c155a9c7c5a3b3e0e77a9e839594a938.lock\n",
            "2024-11-24 14:17:53 - [line:367] - DEBUG: Lock 136605046435424 released on /root/.cache/huggingface/hub/.locks/models--bert-base-uncased/fb140275c155a9c7c5a3b3e0e77a9e839594a938.lock\n",
            "2024-11-24 14:17:53 - [line:546] - DEBUG: https://huggingface.co:443 \"HEAD /bert-base-uncased/resolve/main/added_tokens.json HTTP/11\" 404 0\n",
            "2024-11-24 14:17:54 - [line:546] - DEBUG: https://huggingface.co:443 \"HEAD /bert-base-uncased/resolve/main/special_tokens_map.json HTTP/11\" 404 0\n",
            "2024-11-24 14:17:54 - [line:546] - DEBUG: https://huggingface.co:443 \"HEAD /bert-base-uncased/resolve/main/tokenizer.json HTTP/11\" 200 0\n",
            "2024-11-24 14:17:54 - [line:331] - DEBUG: Attempting to acquire lock 136605046433984 on /root/.cache/huggingface/hub/.locks/models--bert-base-uncased/949a6f013d67eb8a5b4b5b46026217b888021b88.lock\n",
            "2024-11-24 14:17:54 - [line:334] - DEBUG: Lock 136605046433984 acquired on /root/.cache/huggingface/hub/.locks/models--bert-base-uncased/949a6f013d67eb8a5b4b5b46026217b888021b88.lock\n",
            "2024-11-24 14:17:54 - [line:546] - DEBUG: https://huggingface.co:443 \"GET /bert-base-uncased/resolve/main/tokenizer.json HTTP/11\" 200 466062\n",
            "tokenizer.json: 100% 466k/466k [00:00<00:00, 1.10MB/s]\n",
            "2024-11-24 14:17:54 - [line:364] - DEBUG: Attempting to release lock 136605046433984 on /root/.cache/huggingface/hub/.locks/models--bert-base-uncased/949a6f013d67eb8a5b4b5b46026217b888021b88.lock\n",
            "2024-11-24 14:17:54 - [line:367] - DEBUG: Lock 136605046433984 released on /root/.cache/huggingface/hub/.locks/models--bert-base-uncased/949a6f013d67eb8a5b4b5b46026217b888021b88.lock\n",
            "2024-11-24 14:17:55 - [line:546] - DEBUG: https://huggingface.co:443 \"HEAD /bert-base-uncased/resolve/main/config.json HTTP/11\" 200 0\n",
            "2024-11-24 14:17:55 - [line:331] - DEBUG: Attempting to acquire lock 136605046427792 on /root/.cache/huggingface/hub/.locks/models--bert-base-uncased/45a2321a7ecfdaaf60a6c1fd7f5463994cc8907d.lock\n",
            "2024-11-24 14:17:55 - [line:334] - DEBUG: Lock 136605046427792 acquired on /root/.cache/huggingface/hub/.locks/models--bert-base-uncased/45a2321a7ecfdaaf60a6c1fd7f5463994cc8907d.lock\n",
            "2024-11-24 14:17:55 - [line:546] - DEBUG: https://huggingface.co:443 \"GET /bert-base-uncased/resolve/main/config.json HTTP/11\" 200 570\n",
            "config.json: 100% 570/570 [00:00<00:00, 3.84MB/s]\n",
            "2024-11-24 14:17:55 - [line:364] - DEBUG: Attempting to release lock 136605046427792 on /root/.cache/huggingface/hub/.locks/models--bert-base-uncased/45a2321a7ecfdaaf60a6c1fd7f5463994cc8907d.lock\n",
            "2024-11-24 14:17:55 - [line:367] - DEBUG: Lock 136605046427792 released on /root/.cache/huggingface/hub/.locks/models--bert-base-uncased/45a2321a7ecfdaaf60a6c1fd7f5463994cc8907d.lock\n",
            "2024-11-24 14:18:00 - [line:546] - DEBUG: https://huggingface.co:443 \"HEAD /bert-base-uncased/resolve/main/config.json HTTP/11\" 200 0\n",
            "2024-11-24 14:18:00 - [line:546] - DEBUG: https://huggingface.co:443 \"HEAD /bert-base-uncased/resolve/main/config.json HTTP/11\" 200 0\n",
            "2024-11-24 14:18:00 - [line:546] - DEBUG: https://huggingface.co:443 \"HEAD /bert-base-uncased/resolve/main/adapter_config.json HTTP/11\" 404 0\n",
            "2024-11-24 14:18:01 - [line:546] - DEBUG: https://huggingface.co:443 \"HEAD /bert-base-uncased/resolve/main/config.json HTTP/11\" 200 0\n",
            "2024-11-24 14:18:01 - [line:546] - DEBUG: https://huggingface.co:443 \"HEAD /bert-base-uncased/resolve/main/model.safetensors HTTP/11\" 302 0\n",
            "2024-11-24 14:18:01 - [line:331] - DEBUG: Attempting to acquire lock 136605047325264 on /root/.cache/huggingface/hub/.locks/models--bert-base-uncased/68d45e234eb4a928074dfd868cead0219ab85354cc53d20e772753c6bb9169d3.lock\n",
            "2024-11-24 14:18:01 - [line:334] - DEBUG: Lock 136605047325264 acquired on /root/.cache/huggingface/hub/.locks/models--bert-base-uncased/68d45e234eb4a928074dfd868cead0219ab85354cc53d20e772753c6bb9169d3.lock\n",
            "2024-11-24 14:18:01 - [line:1051] - DEBUG: Starting new HTTPS connection (1): cdn-lfs.hf.co:443\n",
            "2024-11-24 14:18:01 - [line:546] - DEBUG: https://cdn-lfs.hf.co:443 \"GET /bert-base-uncased/68d45e234eb4a928074dfd868cead0219ab85354cc53d20e772753c6bb9169d3?response-content-disposition=inline%3B+filename*%3DUTF-8%27%27model.safetensors%3B+filename%3D%22model.safetensors%22%3B&Expires=1732716454&Policy=eyJTdGF0ZW1lbnQiOlt7IkNvbmRpdGlvbiI6eyJEYXRlTGVzc1RoYW4iOnsiQVdTOkVwb2NoVGltZSI6MTczMjcxNjQ1NH19LCJSZXNvdXJjZSI6Imh0dHBzOi8vY2RuLWxmcy5oZi5jby9iZXJ0LWJhc2UtdW5jYXNlZC82OGQ0NWUyMzRlYjRhOTI4MDc0ZGZkODY4Y2VhZDAyMTlhYjg1MzU0Y2M1M2QyMGU3NzI3NTNjNmJiOTE2OWQzP3Jlc3BvbnNlLWNvbnRlbnQtZGlzcG9zaXRpb249KiJ9XX0_&Signature=XdNWHHaCEIG1SQn0IFVAg175zKcCmMaIrPp9UGHOt-gU09srolT2jKc2h-2Q-cBCPhjWqVZZomnBTqsyJTQQM~hsjhmplfMnHQKrog5ItrKmE7KrFV0rjNPG3T64tDngFrtK60ljjO4RRRc0XjAAZa5xzPkVP0VyRdEcmGJxTxcAWypn~41Z5dDTTJLwDzG0WKkdd2Q8sOs-PV4NZkntQ8GrnHHGqMxfSH3rRvLdkSxEUvKTiIBD5O-6TjVvlJTeG3iFW0LmgxFgaCVwlka~OddyjxMFi8F8NttJcL6tJ-6~Kofb4gQT59XU98PGhTRPUdUstuARr8hJWcvVWfG4iQ__&Key-Pair-Id=K3RPWS32NSSJCE HTTP/11\" 200 440449768\n",
            "model.safetensors: 100% 440M/440M [00:04<00:00, 90.9MB/s]\n",
            "2024-11-24 14:18:06 - [line:364] - DEBUG: Attempting to release lock 136605047325264 on /root/.cache/huggingface/hub/.locks/models--bert-base-uncased/68d45e234eb4a928074dfd868cead0219ab85354cc53d20e772753c6bb9169d3.lock\n",
            "2024-11-24 14:18:06 - [line:367] - DEBUG: Lock 136605047325264 released on /root/.cache/huggingface/hub/.locks/models--bert-base-uncased/68d45e234eb4a928074dfd868cead0219ab85354cc53d20e772753c6bb9169d3.lock\n",
            "2024-11-24 14:18:56 - [line:206] - INFO: Epoch: 0 Train Loss: 1.1595 F1: 0.3234\n",
            "2024-11-24 14:18:58 - [line:208] - INFO: Epoch: 0 Dev Loss: 1.1159 F1: 0.2916\n",
            "2024-11-24 14:18:58 - [line:211] - INFO: ---------------------------------\n",
            "2024-11-24 14:19:47 - [line:206] - INFO: Epoch: 1 Train Loss: 1.0285 F1: 0.4529\n",
            "2024-11-24 14:19:48 - [line:208] - INFO: Epoch: 1 Dev Loss: 0.9959 F1: 0.4899\n",
            "2024-11-24 14:19:48 - [line:211] - INFO: ---------------------------------\n",
            "2024-11-24 14:20:38 - [line:206] - INFO: Epoch: 2 Train Loss: 0.9052 F1: 0.5784\n",
            "2024-11-24 14:20:39 - [line:208] - INFO: Epoch: 2 Dev Loss: 0.9345 F1: 0.5430\n",
            "2024-11-24 14:20:39 - [line:211] - INFO: ---------------------------------\n",
            "2024-11-24 14:21:33 - [line:206] - INFO: Epoch: 3 Train Loss: 0.8406 F1: 0.6297\n",
            "2024-11-24 14:21:34 - [line:208] - INFO: Epoch: 3 Dev Loss: 0.9202 F1: 0.5628\n",
            "2024-11-24 14:21:34 - [line:211] - INFO: ---------------------------------\n",
            "2024-11-24 14:22:27 - [line:206] - INFO: Epoch: 4 Train Loss: 0.7927 F1: 0.6710\n",
            "2024-11-24 14:22:28 - [line:208] - INFO: Epoch: 4 Dev Loss: 0.9287 F1: 0.5519\n",
            "2024-11-24 14:22:28 - [line:211] - INFO: ---------------------------------\n",
            "2024-11-24 14:22:28 - [line:216] - INFO: Best Dev F1: 0.5628\n"
          ]
        }
      ]
    },
    {
      "cell_type": "code",
      "source": [
        "!python /content/HiTrans/main.py --evaluate"
      ],
      "metadata": {
        "colab": {
          "base_uri": "https://localhost:8080/"
        },
        "id": "FJnLMPp6jdyG",
        "outputId": "7edd3ad0-ccc8-41db-9db6-1b6672d7b724"
      },
      "execution_count": 3,
      "outputs": [
        {
          "output_type": "stream",
          "name": "stdout",
          "text": [
            "2024-11-24 14:23:37.885938: E external/local_xla/xla/stream_executor/cuda/cuda_fft.cc:485] Unable to register cuFFT factory: Attempting to register factory for plugin cuFFT when one has already been registered\n",
            "2024-11-24 14:23:37.908195: E external/local_xla/xla/stream_executor/cuda/cuda_dnn.cc:8454] Unable to register cuDNN factory: Attempting to register factory for plugin cuDNN when one has already been registered\n",
            "2024-11-24 14:23:37.914855: E external/local_xla/xla/stream_executor/cuda/cuda_blas.cc:1452] Unable to register cuBLAS factory: Attempting to register factory for plugin cuBLAS when one has already been registered\n",
            "2024-11-24 14:23:37.931594: I tensorflow/core/platform/cpu_feature_guard.cc:210] This TensorFlow binary is optimized to use available CPU instructions in performance-critical operations.\n",
            "To enable the following instructions: AVX2 FMA, in other operations, rebuild TensorFlow with the appropriate compiler flags.\n",
            "2024-11-24 14:23:39.150875: W tensorflow/compiler/tf2tensorrt/utils/py_utils.cc:38] TF-TRT Warning: Could not find TensorRT\n",
            "2024-11-24 14:23:40 - [line:164] - INFO: Namespace(d_model=768, d_ff=768, heads=6, layers=1, input_max_length=512, hidden_dim=768, dropout=0.5, lr=5e-05, bert_lr=1e-05, weight_decay=1e-05, max_grad_norm=1.0, epochs=5, batch_size=8, alpha=0.95, seed=123, device=0, evaluate=True)\n",
            "2024-11-24 14:23:40 - [line:174] - INFO: Loading data...\n",
            "2024-11-24 14:23:40 - [line:1051] - DEBUG: Starting new HTTPS connection (1): huggingface.co:443\n",
            "2024-11-24 14:23:40 - [line:546] - DEBUG: https://huggingface.co:443 \"HEAD /bert-base-uncased/resolve/main/tokenizer_config.json HTTP/11\" 200 0\n",
            "2024-11-24 14:23:46 - [line:546] - DEBUG: https://huggingface.co:443 \"HEAD /bert-base-uncased/resolve/main/config.json HTTP/11\" 200 0\n",
            "2024-11-24 14:23:46 - [line:546] - DEBUG: https://huggingface.co:443 \"HEAD /bert-base-uncased/resolve/main/config.json HTTP/11\" 200 0\n",
            "2024-11-24 14:23:46 - [line:546] - DEBUG: https://huggingface.co:443 \"HEAD /bert-base-uncased/resolve/main/config.json HTTP/11\" 200 0\n",
            "/content/HiTrans/main.py:137: FutureWarning: You are using `torch.load` with `weights_only=False` (the current default value), which uses the default pickle module implicitly. It is possible to construct malicious pickle data which will execute arbitrary code during unpickling (See https://github.com/pytorch/pytorch/blob/main/SECURITY.md#untrusted-models for more details). In a future release, the default value for `weights_only` will be flipped to `True`. This limits the functions that could be executed during unpickling. Arbitrary objects will no longer be allowed to be loaded via this mode unless they are explicitly allowlisted by the user via `torch.serialization.add_safe_globals`. We recommend you start setting `weights_only=True` for any use case where you don't have full control of the loaded file. Please open an issue on GitHub for any issues related to this experimental feature.\n",
            "  self.model.load_state_dict(torch.load(path))\n",
            "2024-11-24 14:23:50 - [line:199] - INFO: Dev Loss: 0.9372 F1: 0.5628\n",
            "2024-11-24 14:23:54 - [line:201] - INFO: Test Loss: 0.8834 F1: 0.6121\n"
          ]
        }
      ]
    }
  ]
}